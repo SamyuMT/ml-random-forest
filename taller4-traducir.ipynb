{
 "cells": [
  {
   "cell_type": "markdown",
   "id": "5a89e17e",
   "metadata": {},
   "source": [
    "## Librerias a importar"
   ]
  },
  {
   "cell_type": "code",
   "execution_count": 11,
   "id": "d701357f",
   "metadata": {},
   "outputs": [],
   "source": [
    "import pandas as pd\n",
    "import deepl\n",
    "import os"
   ]
  },
  {
   "cell_type": "code",
   "execution_count": 2,
   "id": "6562bee5",
   "metadata": {},
   "outputs": [],
   "source": [
    "# Importar datos\n",
    "ruta_archivo = \"./clientes_banco.csv\"\n",
    "df = pd.read_csv(ruta_archivo)"
   ]
  },
  {
   "cell_type": "code",
   "execution_count": 3,
   "id": "57db36e4",
   "metadata": {},
   "outputs": [
    {
     "name": "stdout",
     "output_type": "stream",
     "text": [
      "   ID_Cliente  Idade Grau_escolaridade   Estado_civil  Tamanho_familia  \\\n",
      "0     5008804     32   Ensino superior  União-estável                2   \n",
      "1     5008805     32   Ensino superior  União-estável                2   \n",
      "2     5008806     58      Ensino médio         Casado                2   \n",
      "3     5008808     52      Ensino médio       Solteiro                1   \n",
      "4     5008809     52      Ensino médio       Solteiro                1   \n",
      "\n",
      "    Categoria_de_renda   Ocupacao  Anos_empregado  Rendimento_anual  \\\n",
      "0            Empregado      Outro              12          427500.0   \n",
      "1            Empregado      Outro              12          427500.0   \n",
      "2            Empregado  Segurança               3          112500.0   \n",
      "3  Associado comercial     Vendas               8          270000.0   \n",
      "4  Associado comercial     Vendas               8          270000.0   \n",
      "\n",
      "   Tem_carro                   Moradia  \n",
      "0          1       Apartamento alugado  \n",
      "1          1       Apartamento alugado  \n",
      "2          1  Casa/apartamento próprio  \n",
      "3          0  Casa/apartamento próprio  \n",
      "4          0  Casa/apartamento próprio  \n"
     ]
    }
   ],
   "source": [
    "print(df.head(5))"
   ]
  },
  {
   "cell_type": "code",
   "execution_count": 4,
   "id": "e3e9dec5",
   "metadata": {},
   "outputs": [
    {
     "name": "stdout",
     "output_type": "stream",
     "text": [
      "Index(['ID_Cliente', 'Idade', 'Grau_escolaridade', 'Estado_civil',\n",
      "       'Tamanho_familia', 'Categoria_de_renda', 'Ocupacao', 'Anos_empregado',\n",
      "       'Rendimento_anual', 'Tem_carro', 'Moradia'],\n",
      "      dtype='object')\n"
     ]
    }
   ],
   "source": [
    "print(df.columns)"
   ]
  },
  {
   "cell_type": "code",
   "execution_count": 5,
   "id": "e943ce9c",
   "metadata": {},
   "outputs": [
    {
     "name": "stdout",
     "output_type": "stream",
     "text": [
      "ID_Cliente: int64\n",
      "Idade: int64\n",
      "Grau_escolaridade: object\n",
      "Estado_civil: object\n",
      "Tamanho_familia: int64\n",
      "Categoria_de_renda: object\n",
      "Ocupacao: object\n",
      "Anos_empregado: int64\n",
      "Rendimento_anual: float64\n",
      "Tem_carro: int64\n",
      "Moradia: object\n"
     ]
    }
   ],
   "source": [
    "for col, dtype in zip(df.columns, df.dtypes):\n",
    "    print(f\"{col}: {dtype}\")"
   ]
  },
  {
   "cell_type": "code",
   "execution_count": 6,
   "id": "a6726b08",
   "metadata": {},
   "outputs": [
    {
     "data": {
      "text/plain": [
       "(438463, 11)"
      ]
     },
     "execution_count": 6,
     "metadata": {},
     "output_type": "execute_result"
    }
   ],
   "source": [
    "df.shape"
   ]
  },
  {
   "cell_type": "code",
   "execution_count": 7,
   "id": "653b7efd",
   "metadata": {
    "vscode": {
     "languageId": "javascript"
    }
   },
   "outputs": [],
   "source": [
    "translations = {\n",
    "    'ID_Cliente': 'Customer_ID',\n",
    "    'Idade': 'Age',\n",
    "    'Grau_escolaridade': 'Education_Level',\n",
    "    'Estado_civil': 'Marital_Status',\n",
    "    'Tamanho_familia': 'Family_Size',\n",
    "    'Categoria_de_renda': 'Income_Category',\n",
    "    'Ocupacao': 'Occupation',\n",
    "    'Anos_empregado': 'Years_Employed',\n",
    "    'Rendimento_anual': 'Annual_Income',\n",
    "    'Tem_carro': 'Has_Car',\n",
    "    'Moradia': 'Housing'\n",
    "}"
   ]
  },
  {
   "cell_type": "code",
   "execution_count": 8,
   "id": "be75b428",
   "metadata": {},
   "outputs": [],
   "source": [
    "df.rename(columns=translations, inplace=True)"
   ]
  },
  {
   "cell_type": "code",
   "execution_count": 9,
   "id": "bab1691b",
   "metadata": {},
   "outputs": [
    {
     "data": {
      "text/html": [
       "<div>\n",
       "<style scoped>\n",
       "    .dataframe tbody tr th:only-of-type {\n",
       "        vertical-align: middle;\n",
       "    }\n",
       "\n",
       "    .dataframe tbody tr th {\n",
       "        vertical-align: top;\n",
       "    }\n",
       "\n",
       "    .dataframe thead th {\n",
       "        text-align: right;\n",
       "    }\n",
       "</style>\n",
       "<table border=\"1\" class=\"dataframe\">\n",
       "  <thead>\n",
       "    <tr style=\"text-align: right;\">\n",
       "      <th></th>\n",
       "      <th>Customer_ID</th>\n",
       "      <th>Age</th>\n",
       "      <th>Education_Level</th>\n",
       "      <th>Marital_Status</th>\n",
       "      <th>Family_Size</th>\n",
       "      <th>Income_Category</th>\n",
       "      <th>Occupation</th>\n",
       "      <th>Years_Employed</th>\n",
       "      <th>Annual_Income</th>\n",
       "      <th>Has_Car</th>\n",
       "      <th>Housing</th>\n",
       "    </tr>\n",
       "  </thead>\n",
       "  <tbody>\n",
       "    <tr>\n",
       "      <th>0</th>\n",
       "      <td>5008804</td>\n",
       "      <td>32</td>\n",
       "      <td>Ensino superior</td>\n",
       "      <td>União-estável</td>\n",
       "      <td>2</td>\n",
       "      <td>Empregado</td>\n",
       "      <td>Outro</td>\n",
       "      <td>12</td>\n",
       "      <td>427500.0</td>\n",
       "      <td>1</td>\n",
       "      <td>Apartamento alugado</td>\n",
       "    </tr>\n",
       "    <tr>\n",
       "      <th>1</th>\n",
       "      <td>5008805</td>\n",
       "      <td>32</td>\n",
       "      <td>Ensino superior</td>\n",
       "      <td>União-estável</td>\n",
       "      <td>2</td>\n",
       "      <td>Empregado</td>\n",
       "      <td>Outro</td>\n",
       "      <td>12</td>\n",
       "      <td>427500.0</td>\n",
       "      <td>1</td>\n",
       "      <td>Apartamento alugado</td>\n",
       "    </tr>\n",
       "    <tr>\n",
       "      <th>2</th>\n",
       "      <td>5008806</td>\n",
       "      <td>58</td>\n",
       "      <td>Ensino médio</td>\n",
       "      <td>Casado</td>\n",
       "      <td>2</td>\n",
       "      <td>Empregado</td>\n",
       "      <td>Segurança</td>\n",
       "      <td>3</td>\n",
       "      <td>112500.0</td>\n",
       "      <td>1</td>\n",
       "      <td>Casa/apartamento próprio</td>\n",
       "    </tr>\n",
       "    <tr>\n",
       "      <th>3</th>\n",
       "      <td>5008808</td>\n",
       "      <td>52</td>\n",
       "      <td>Ensino médio</td>\n",
       "      <td>Solteiro</td>\n",
       "      <td>1</td>\n",
       "      <td>Associado comercial</td>\n",
       "      <td>Vendas</td>\n",
       "      <td>8</td>\n",
       "      <td>270000.0</td>\n",
       "      <td>0</td>\n",
       "      <td>Casa/apartamento próprio</td>\n",
       "    </tr>\n",
       "    <tr>\n",
       "      <th>4</th>\n",
       "      <td>5008809</td>\n",
       "      <td>52</td>\n",
       "      <td>Ensino médio</td>\n",
       "      <td>Solteiro</td>\n",
       "      <td>1</td>\n",
       "      <td>Associado comercial</td>\n",
       "      <td>Vendas</td>\n",
       "      <td>8</td>\n",
       "      <td>270000.0</td>\n",
       "      <td>0</td>\n",
       "      <td>Casa/apartamento próprio</td>\n",
       "    </tr>\n",
       "  </tbody>\n",
       "</table>\n",
       "</div>"
      ],
      "text/plain": [
       "   Customer_ID  Age  Education_Level Marital_Status  Family_Size  \\\n",
       "0      5008804   32  Ensino superior  União-estável            2   \n",
       "1      5008805   32  Ensino superior  União-estável            2   \n",
       "2      5008806   58     Ensino médio         Casado            2   \n",
       "3      5008808   52     Ensino médio       Solteiro            1   \n",
       "4      5008809   52     Ensino médio       Solteiro            1   \n",
       "\n",
       "       Income_Category Occupation  Years_Employed  Annual_Income  Has_Car  \\\n",
       "0            Empregado      Outro              12       427500.0        1   \n",
       "1            Empregado      Outro              12       427500.0        1   \n",
       "2            Empregado  Segurança               3       112500.0        1   \n",
       "3  Associado comercial     Vendas               8       270000.0        0   \n",
       "4  Associado comercial     Vendas               8       270000.0        0   \n",
       "\n",
       "                    Housing  \n",
       "0       Apartamento alugado  \n",
       "1       Apartamento alugado  \n",
       "2  Casa/apartamento próprio  \n",
       "3  Casa/apartamento próprio  \n",
       "4  Casa/apartamento próprio  "
      ]
     },
     "execution_count": 9,
     "metadata": {},
     "output_type": "execute_result"
    }
   ],
   "source": [
    "df.head(5)"
   ]
  },
  {
   "cell_type": "code",
   "execution_count": 12,
   "id": "133d0bed",
   "metadata": {},
   "outputs": [],
   "source": [
    "# Obtener la clave de autenticación de la API de DeepL desde el archivo .env\n",
    "auth_key = os.getenv(\"DEEPL_AUTH_KEY\")\n",
    "translator = deepl.Translator(auth_key)"
   ]
  },
  {
   "cell_type": "code",
   "execution_count": 13,
   "id": "2501ee21",
   "metadata": {},
   "outputs": [],
   "source": [
    "# Seleccionar columnas de texto\n",
    "text_cols = df.select_dtypes(include=['object', 'string']).columns"
   ]
  },
  {
   "cell_type": "code",
   "execution_count": 14,
   "id": "97f98272",
   "metadata": {},
   "outputs": [
    {
     "data": {
      "text/plain": [
       "Index(['Education_Level', 'Marital_Status', 'Income_Category', 'Occupation',\n",
       "       'Housing'],\n",
       "      dtype='object')"
      ]
     },
     "execution_count": 14,
     "metadata": {},
     "output_type": "execute_result"
    }
   ],
   "source": [
    "text_cols"
   ]
  },
  {
   "cell_type": "code",
   "execution_count": 15,
   "id": "5f6b7ec1",
   "metadata": {},
   "outputs": [
    {
     "name": "stdout",
     "output_type": "stream",
     "text": [
      "Traduciendo columna: Education_Level\n",
      "Caracteres traducidos en 'Education_Level': 84\n",
      "Traduciendo columna: Marital_Status\n",
      "Caracteres traducidos en 'Marital_Status': 42\n",
      "Traduciendo columna: Income_Category\n",
      "Caracteres traducidos en 'Income_Category': 64\n",
      "Traduciendo columna: Occupation\n",
      "Caracteres traducidos en 'Occupation': 194\n",
      "Traduciendo columna: Housing\n",
      "Caracteres traducidos en 'Housing': 122\n"
     ]
    }
   ],
   "source": [
    "# Traducir valores únicos de cada columna y mostrar la cantidad de caracteres traducidos\n",
    "for col in text_cols:\n",
    "    # Imprime el nombre de la columna que se va a traducir\n",
    "    print(f\"Traduciendo columna: {col}\")\n",
    "    # Obtiene los valores únicos no nulos de la columna\n",
    "    unique_vals = df[col].dropna().unique()\n",
    "    # Suma la cantidad total de caracteres de los valores únicos\n",
    "    total_chars = sum(len(str(val)) for val in unique_vals)\n",
    "    # Traduce cada valor único usando la API de DeepL y almacena en un diccionario\n",
    "    translations = {\n",
    "        val: translator.translate_text(val, source_lang=\"PT\", target_lang=\"EN-US\").text\n",
    "        for val in unique_vals\n",
    "    }\n",
    "    # Reemplaza los valores de la columna por sus traducciones\n",
    "    df[col] = df[col].map(translations)\n",
    "    # Imprime la cantidad de caracteres traducidos en la columna actual\n",
    "    print(f\"Caracteres traducidos en '{col}': {total_chars}\")\n"
   ]
  },
  {
   "cell_type": "code",
   "execution_count": 16,
   "id": "46cd5a27",
   "metadata": {},
   "outputs": [
    {
     "data": {
      "text/html": [
       "<div>\n",
       "<style scoped>\n",
       "    .dataframe tbody tr th:only-of-type {\n",
       "        vertical-align: middle;\n",
       "    }\n",
       "\n",
       "    .dataframe tbody tr th {\n",
       "        vertical-align: top;\n",
       "    }\n",
       "\n",
       "    .dataframe thead th {\n",
       "        text-align: right;\n",
       "    }\n",
       "</style>\n",
       "<table border=\"1\" class=\"dataframe\">\n",
       "  <thead>\n",
       "    <tr style=\"text-align: right;\">\n",
       "      <th></th>\n",
       "      <th>Customer_ID</th>\n",
       "      <th>Age</th>\n",
       "      <th>Education_Level</th>\n",
       "      <th>Marital_Status</th>\n",
       "      <th>Family_Size</th>\n",
       "      <th>Income_Category</th>\n",
       "      <th>Occupation</th>\n",
       "      <th>Years_Employed</th>\n",
       "      <th>Annual_Income</th>\n",
       "      <th>Has_Car</th>\n",
       "      <th>Housing</th>\n",
       "    </tr>\n",
       "  </thead>\n",
       "  <tbody>\n",
       "    <tr>\n",
       "      <th>0</th>\n",
       "      <td>5008804</td>\n",
       "      <td>32</td>\n",
       "      <td>Higher education</td>\n",
       "      <td>Union-stable</td>\n",
       "      <td>2</td>\n",
       "      <td>Employee</td>\n",
       "      <td>Other</td>\n",
       "      <td>12</td>\n",
       "      <td>427500.0</td>\n",
       "      <td>1</td>\n",
       "      <td>Rented apartment</td>\n",
       "    </tr>\n",
       "    <tr>\n",
       "      <th>1</th>\n",
       "      <td>5008805</td>\n",
       "      <td>32</td>\n",
       "      <td>Higher education</td>\n",
       "      <td>Union-stable</td>\n",
       "      <td>2</td>\n",
       "      <td>Employee</td>\n",
       "      <td>Other</td>\n",
       "      <td>12</td>\n",
       "      <td>427500.0</td>\n",
       "      <td>1</td>\n",
       "      <td>Rented apartment</td>\n",
       "    </tr>\n",
       "    <tr>\n",
       "      <th>2</th>\n",
       "      <td>5008806</td>\n",
       "      <td>58</td>\n",
       "      <td>High school</td>\n",
       "      <td>Married</td>\n",
       "      <td>2</td>\n",
       "      <td>Employee</td>\n",
       "      <td>Security</td>\n",
       "      <td>3</td>\n",
       "      <td>112500.0</td>\n",
       "      <td>1</td>\n",
       "      <td>Own house/apartment</td>\n",
       "    </tr>\n",
       "    <tr>\n",
       "      <th>3</th>\n",
       "      <td>5008808</td>\n",
       "      <td>52</td>\n",
       "      <td>High school</td>\n",
       "      <td>Single</td>\n",
       "      <td>1</td>\n",
       "      <td>Business associate</td>\n",
       "      <td>Sales</td>\n",
       "      <td>8</td>\n",
       "      <td>270000.0</td>\n",
       "      <td>0</td>\n",
       "      <td>Own house/apartment</td>\n",
       "    </tr>\n",
       "    <tr>\n",
       "      <th>4</th>\n",
       "      <td>5008809</td>\n",
       "      <td>52</td>\n",
       "      <td>High school</td>\n",
       "      <td>Single</td>\n",
       "      <td>1</td>\n",
       "      <td>Business associate</td>\n",
       "      <td>Sales</td>\n",
       "      <td>8</td>\n",
       "      <td>270000.0</td>\n",
       "      <td>0</td>\n",
       "      <td>Own house/apartment</td>\n",
       "    </tr>\n",
       "  </tbody>\n",
       "</table>\n",
       "</div>"
      ],
      "text/plain": [
       "   Customer_ID  Age   Education_Level Marital_Status  Family_Size  \\\n",
       "0      5008804   32  Higher education   Union-stable            2   \n",
       "1      5008805   32  Higher education   Union-stable            2   \n",
       "2      5008806   58       High school        Married            2   \n",
       "3      5008808   52       High school         Single            1   \n",
       "4      5008809   52       High school         Single            1   \n",
       "\n",
       "      Income_Category Occupation  Years_Employed  Annual_Income  Has_Car  \\\n",
       "0            Employee      Other              12       427500.0        1   \n",
       "1            Employee      Other              12       427500.0        1   \n",
       "2            Employee   Security               3       112500.0        1   \n",
       "3  Business associate      Sales               8       270000.0        0   \n",
       "4  Business associate      Sales               8       270000.0        0   \n",
       "\n",
       "               Housing  \n",
       "0     Rented apartment  \n",
       "1     Rented apartment  \n",
       "2  Own house/apartment  \n",
       "3  Own house/apartment  \n",
       "4  Own house/apartment  "
      ]
     },
     "execution_count": 16,
     "metadata": {},
     "output_type": "execute_result"
    }
   ],
   "source": [
    "df.head(5)"
   ]
  },
  {
   "cell_type": "code",
   "execution_count": 17,
   "id": "0e31be5c",
   "metadata": {},
   "outputs": [],
   "source": [
    "df.to_csv(\"clientes_banco_traducido.csv\", index=False)"
   ]
  },
  {
   "cell_type": "code",
   "execution_count": null,
   "id": "18c6bb03",
   "metadata": {},
   "outputs": [],
   "source": []
  }
 ],
 "metadata": {
  "kernelspec": {
   "display_name": "Python 3",
   "language": "python",
   "name": "python3"
  },
  "language_info": {
   "codemirror_mode": {
    "name": "ipython",
    "version": 3
   },
   "file_extension": ".py",
   "mimetype": "text/x-python",
   "name": "python",
   "nbconvert_exporter": "python",
   "pygments_lexer": "ipython3",
   "version": "3.13.1"
  }
 },
 "nbformat": 4,
 "nbformat_minor": 5
}
